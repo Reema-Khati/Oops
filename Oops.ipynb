{
  "nbformat": 4,
  "nbformat_minor": 0,
  "metadata": {
    "colab": {
      "provenance": []
    },
    "kernelspec": {
      "name": "python3",
      "display_name": "Python 3"
    },
    "language_info": {
      "name": "python"
    }
  },
  "cells": [
    {
      "cell_type": "markdown",
      "source": [
        "#OOPS\n",
        "\n",
        "##Theory Questions"
      ],
      "metadata": {
        "id": "or6w77oPiW6z"
      }
    },
    {
      "cell_type": "markdown",
      "source": [
        "1. What is Object-Oriented Programming (OOP)?\n",
        "  - Object-oriented programming (OOP) is a programming paradigm that organizes software design around data, or objects, rather than functions and logic. It uses concepts like classes, objects, inheritance, encapsulation, abstraction, and polymorphism to model real-world entities and their interactions."
      ],
      "metadata": {
        "id": "JT7xW5czikZd"
      }
    },
    {
      "cell_type": "markdown",
      "source": [
        "2.  What is a class in OOP?\n",
        "    - In object-oriented programming (OOP), a class is a blueprint or template that defines the structure and behavior of objects. It specifies the attributes (data) and methods (functions) that the objects created from the class will have. Each object, or instance, of a class possesses its own set of attribute values but shares the same structure and behavior defined by the class. This concept allows for the creation of modular and reusable code, facilitating the modeling of real-world entities within software applications."
      ],
      "metadata": {
        "id": "xyXDOyQkjjjs"
      }
    },
    {
      "cell_type": "markdown",
      "source": [
        "3. What is an object in OOP?\n",
        "   - In object-oriented programming, an object is a fundamental unit that encapsulates both data and behavior. It represents a specific instance of a class, embodying the structure and functionalities defined by that class.\n",
        "\n",
        "   *  Characteristics of an Object :\n",
        "    1. Identity: Each object has a unique identity that distinguishes it from other objects.\n",
        "    \n",
        "    2. State: The state of an object is determined by the values of its attributes. These attributes hold the data relevant to the object.\n",
        "\n",
        "    3. Behavior: Objects exhibit behavior through methods (functions) that operate on their data. These methods define what the object can do.\n",
        "\n",
        "    When a class is defined, it serves as a blueprint, but no memory is allocated until an object is instantiated from it. Upon instantiation, the object occupies memory and can be manipulated through its methods.\n",
        "\n"
      ],
      "metadata": {
        "id": "M_5Duaf9kOEI"
      }
    },
    {
      "cell_type": "markdown",
      "source": [
        "4. What is the difference between abstraction and encapsulation?\n",
        "   - Abstraction is a process of hiding the implementation details of a system from the user, and only the functional details will be available to the user end. On the other hand, Encapsulation is a method of wrapping up the data and code acting on the data into a single unit.\n",
        "   "
      ],
      "metadata": {
        "id": "qEb4U11llhSh"
      }
    },
    {
      "cell_type": "markdown",
      "source": [
        "5. What are dunder methods in Python?\n",
        "   - Dunder methods allow your custom objects to integrate seamlessly with Python's built-in features. By implementing these methods, you can define how your objects behave with operators, built-in functions, and other language constructs. For instance, when you use the + operator between two objects, Python internally calls the __add__ method of the left-hand object."
      ],
      "metadata": {
        "id": "_bxrJhbCn8dv"
      }
    },
    {
      "cell_type": "markdown",
      "source": [
        "6. Explain the concept of inheritance in OOP.\n",
        "  - In object-oriented programming (OOP), inheritance is a fundamental concept that allows a class (known as a child or subclass) to acquire properties and behaviors (methods) from another class (known as a parent, superclass, or base class). This mechanism promotes code reusability and establishes a hierarchical relationship between classes.\n",
        "\n",
        "  * Concepts of Inheritance\n",
        "  1. Code Reusability: By inheriting from a parent class, a subclass can reuse existing code, reducing redundancy and improving maintainability.\n",
        "\n",
        "  2. Hierarchical Relationships: Inheritance models real-world relationships by creating a hierarchy where subclasses represent specialized versions of their superclasses.\n",
        "  3. Method Overriding: Subclasses can provide specific implementations of methods that are already defined in their superclasses, allowing for dynamic behavior.\n",
        "\n"
      ],
      "metadata": {
        "id": "CrDoqhUbqWu5"
      }
    },
    {
      "cell_type": "markdown",
      "source": [
        "7. What is polymorphism in OOP?\n",
        "  - In object-oriented programming (OOP), polymorphism is the ability of different classes to be treated as instances of the same superclass, allowing objects to respond differently to the same method call based on their specific class type. This enables a single interface to represent different underlying forms (data types), promoting flexibility and extensibility in code design.\n",
        "\n",
        "  Example :"
      ],
      "metadata": {
        "id": "fTHUPyewtwQ_"
      }
    },
    {
      "cell_type": "code",
      "source": [
        "class Shape:\n",
        "    def draw(self):\n",
        "        print(\"Drawing a shape\")\n",
        "\n",
        "class Circle(Shape):\n",
        "    def draw(self):\n",
        "        print(\"Drawing a circle\")\n",
        "\n",
        "class Rectangle(Shape):\n",
        "    def draw(self):\n",
        "        print(\"Drawing a rectangle\")\n",
        "\n",
        "shapes = [Circle(), Rectangle()]\n",
        "for shape in shapes:\n",
        "    shape.draw()"
      ],
      "metadata": {
        "colab": {
          "base_uri": "https://localhost:8080/"
        },
        "id": "eFoNOulWuLP0",
        "outputId": "db1d7c6d-eae8-4d10-adff-59107dfe930a"
      },
      "execution_count": 1,
      "outputs": [
        {
          "output_type": "stream",
          "name": "stdout",
          "text": [
            "Drawing a circle\n",
            "Drawing a rectangle\n"
          ]
        }
      ]
    },
    {
      "cell_type": "markdown",
      "source": [
        "8. How is encapsulation achieved in Python?\n",
        "  - encapsulation is achieved by bundling data (attributes) and methods (functions) that operate on the data within a single unit, typically a class. This approach restricts direct access to some components, which helps protect the integrity of the data and ensures proper usage.\n",
        "\n",
        "  Python doesn't have explicit access modifiers like private or protected found in languages such as Java or C++. Instead, it relies on naming conventions to indicate the intended visibility of attributes and methods:\n",
        "\n",
        "  1. Public Members: Attributes and methods that are accessible from anywhere.\n",
        "   GeeksforGeeks\n",
        "\n",
        "  2. Protected Members: Attributes and methods that are intended to be accessible within the class and its subclasses. These are indicated by a single underscore prefix (e.g., _attribute).\n",
        "\n",
        "  3. Private Members: Attributes and methods that are intended to be accessible only within the class. These are indicated by a double underscore prefix (e.g., __attribute).\n",
        "\n",
        "  While these conventions do not enforce access restrictions, they signal the intended usage to other developers."
      ],
      "metadata": {
        "id": "DRTnt38GucCg"
      }
    },
    {
      "cell_type": "markdown",
      "source": [
        "9. What is a constructor in Python?\n",
        "  - A constructor in Python is a special method used to initialize objects of a class. It is automatically called when a new object is created. The constructor's primary purpose is to set up the initial state of the object by assigning values to its attributes. In Python, the constructor is defined using the __init__() method."
      ],
      "metadata": {
        "id": "suctQJZX6bPc"
      }
    },
    {
      "cell_type": "code",
      "source": [
        "class Person:\n",
        "    def __init__(self, name, age):\n",
        "        self.name = name\n",
        "        self.age = age\n",
        "\n",
        "p1 = Person(\"Reems\", 30)\n",
        "print(p1.name)\n",
        "print(p1.age)\n"
      ],
      "metadata": {
        "colab": {
          "base_uri": "https://localhost:8080/"
        },
        "id": "I83a-I2t6zB9",
        "outputId": "86e37cd6-e477-40e7-81d4-0d3a22af11d8"
      },
      "execution_count": 2,
      "outputs": [
        {
          "output_type": "stream",
          "name": "stdout",
          "text": [
            "Reems\n",
            "30\n"
          ]
        }
      ]
    },
    {
      "cell_type": "markdown",
      "source": [
        "10. What are class and static methods in Python?\n",
        "    - In Python, class methods and static methods are two types of methods that serve different purposes within a class. Here's a concise overview:\n",
        "\n",
        "    Class Methods:\n",
        "\n",
        "    1. Decorator: @classmethod\n",
        "\n",
        "    2. First Parameter: cls (refers to the class)\n",
        "\n",
        "    3. Access: Can access and modify class-level data.\n",
        "\n",
        "    4. Common Use Cases: Factory methods, alternative constructors, or any method that needs to access or modify class state.\n",
        "\n",
        "    Static Methods :\n",
        "\n",
        "    1. Decorator: @staticmethod\n",
        "\n",
        "    2. First Parameter: None (does not take self or cls)\n",
        "\n",
        "    3. Access: Cannot access or modify class or instance data directly.\n",
        "\n",
        "    4. Common Use Cases: Utility functions that perform a task in isolation and are logically related to the class.\n"
      ],
      "metadata": {
        "id": "WjIkvDEp6943"
      }
    },
    {
      "cell_type": "markdown",
      "source": [
        "11. What is method overloading in Python?\n",
        "    - Method overloading in Python refers to the ability to define multiple methods in a class with the same name but different parameters. However, Python does not support traditional method overloading like some other languages (e.g., Java, C++). Instead, it uses a mechanism where the latest defined method with a specific name overrides any earlier definitions of methods with the same name within the same scope.\n",
        "\n",
        "    To achieve similar functionality to method overloading in Python, one can use default arguments or variable-length argument lists (*args and **kwargs). This allows a single method to handle different numbers and types of arguments.\n",
        "\n",
        "    \n"
      ],
      "metadata": {
        "id": "zsJrO0TL8RKa"
      }
    },
    {
      "cell_type": "markdown",
      "source": [
        "12.  What is method overriding in OOP?\n",
        "     - Method overriding is a feature that allows a subclass (child class) to provide a specific implementation of a method that is already defined in its superclass (parent class). This mechanism enables a subclass to modify or extend the behavior of methods inherited from the superclass, facilitating polymorphism and dynamic method dispatch.\n",
        "\n",
        "      Method overriding occurs when a subclass defines a method with the same name, parameters (signature), and return type as a method in its superclass. The overriding method in the subclass replaces the implementation of the method in the superclass. This allows the subclass to customize or completely replace the behavior of the inherited method.\n",
        "\n",
        "      \n",
        "\n",
        "\n"
      ],
      "metadata": {
        "id": "S6V4yR33-VDB"
      }
    },
    {
      "cell_type": "markdown",
      "source": [
        "13. What is a property decorator in Python?\n",
        "    - The @property decorator allows you to define methods in a class that can be accessed like attributes, providing a clean and controlled way to manage attribute access.\n",
        "\n",
        "    Purpose of @property\n",
        "    1. Encapsulation: It enables you to hide the internal representation of an attribute and control its access, adhering to the principles of encapsulation in object-oriented programming.\n",
        "\n",
        "    2. Readability: By allowing method access without parentheses, it makes the code more readable and intuitive.\n",
        "\n",
        "\n",
        "    "
      ],
      "metadata": {
        "id": "emOMiveuACr4"
      }
    },
    {
      "cell_type": "markdown",
      "source": [],
      "metadata": {
        "id": "0bUVJ80AiP5B"
      }
    },
    {
      "cell_type": "code",
      "source": [
        "class Circle:\n",
        "    def __init__(self, radius):\n",
        "        self._radius = radius\n",
        "\n",
        "    @property\n",
        "    def radius(self):\n",
        "        return self._radius\n",
        "\n",
        "    @radius.setter\n",
        "    def radius(self, value):\n",
        "        if value < 0:\n",
        "            raise ValueError(\"Radius cannot be negative.\")\n",
        "        self._radius = value\n",
        "\n",
        "    @radius.deleter\n",
        "    def radius(self):\n",
        "        del self._radius\n",
        "\n",
        "c = Circle(5)\n",
        "print(c.radius)\n",
        "c.radius = 10\n",
        "del c.radius\n"
      ],
      "metadata": {
        "colab": {
          "base_uri": "https://localhost:8080/"
        },
        "id": "Xgc6BC8ABBgg",
        "outputId": "4ceeecd2-8226-433b-d139-dee0a8e372e2"
      },
      "execution_count": 5,
      "outputs": [
        {
          "output_type": "stream",
          "name": "stdout",
          "text": [
            "5\n"
          ]
        }
      ]
    },
    {
      "cell_type": "markdown",
      "source": [
        "14. Why is polymorphism important in OOP?\n",
        "    - Polymorphism is important in object-oriented programming (OOP) because it allows objects of different classes to be treated through a common interface, enabling flexible and reusable code.This means you can write code that works on the superclass level, and it will automatically work with any subclass, enhancing code maintainability and scalability."
      ],
      "metadata": {
        "id": "C5x8x5GaBLFV"
      }
    },
    {
      "cell_type": "markdown",
      "source": [
        "15. What is an abstract class in Python?\n",
        "    - An abstract class is a class that cannot be instantiated directly and is designed to serve as a blueprint for other classes. It can contain abstract methods—methods that are declared but contain no implementation. Subclasses of the abstract class are required to implement these abstract methods, ensuring a consistent interface across different subclasses.\n",
        "    "
      ],
      "metadata": {
        "id": "KMxYQ693BfLz"
      }
    },
    {
      "cell_type": "markdown",
      "source": [
        "16. What are the advantages of OOP?\n",
        "    - Object-Oriented Programming (OOP) offers several advantages that enhance the development and maintenance of software systems:\n",
        "\n",
        "    1. Modularity: OOP structures code into discrete classes and objects, promoting organized and manageable codebases.\n",
        "\n",
        "    2. Reusability: Through inheritance and composition, OOP facilitates the reuse of existing code, reducing redundancy and development time.\n",
        "\n",
        "    3. Maintainability: Encapsulation and clear class structures make it easier to update and maintain code, as changes are often localized within specific classes.\n",
        "\n",
        "    4. Scalability: OOP supports the creation of scalable systems by allowing the addition of new classes and objects without affecting existing functionality.\n",
        "\n",
        "    5. Security: Encapsulation restricts direct access to object data, enhancing security by controlling how data is accessed and modified.\n",
        "\n",
        "    6. Abstraction: OOP allows developers to define complex systems by focusing on high-level operations, hiding the intricate details from the user.\n",
        "\n",
        "    7. Polymorphism: This feature enables objects of different classes to be treated as instances of a common superclass, simplifying code and enhancing flexibility."
      ],
      "metadata": {
        "id": "pObf6OjqB3db"
      }
    },
    {
      "cell_type": "markdown",
      "source": [
        "17. What is the difference between a class variable and an instance variable?\n",
        "    - The key difference between a class variable (also known as a static variable) and an instance variable is their scope and how they are shared. Class variables are shared across all instances of a class, meaning they have only one copy regardless of how many objects are created from that class. Instance variables, on the other hand, are unique to each instance of the class, with each object having its own separate copy.\n",
        "\n",
        "    Class Variables (Static Variables):\n",
        "\n",
        "    1. Defined at the class level (outside any methods) and typically using the static keyword (in languages like Java).\n",
        "\n",
        "    2. Share a single copy across all instances of the class.\n",
        "\n",
        "    3. Can be accessed directly using the class name (e.g., MyClass.myVariable).\n",
        "    4. Used for shared data, constants, or when you need a single copy for all instances.\n",
        "\n",
        "    Instance Variables:\n",
        "\n",
        "    1. Defined at the instance level within a class (typically within the constructor or methods).\n",
        "    2. Each instance (object) of the class has its own separate copy of the instance variable.\n",
        "    3. Accessed using an object reference (e.g., myObject.myVariable).\n",
        "    4. Used to store unique data specific to each object, like properties or characteristics of that particular instance."
      ],
      "metadata": {
        "id": "ZlWyLbGlC3wZ"
      }
    },
    {
      "cell_type": "markdown",
      "source": [
        "18. What is multiple inheritance in Python?\n",
        "    - In Python, multiple inheritance refers to a scenario where a class (known as the child or derived class) inherits attributes and methods from more than one parent (or base) class. This allows the child class to combine functionalities from multiple sources.\n",
        "    "
      ],
      "metadata": {
        "id": "a1_qRXIvkPgI"
      }
    },
    {
      "cell_type": "code",
      "source": [
        "class Parent1:\n",
        "    def method1(self):\n",
        "        print(\"Method from Parent1\")\n",
        "\n",
        "class Parent2:\n",
        "    def method2(self):\n",
        "        print(\"Method from Parent2\")\n",
        "\n",
        "class Child(Parent1, Parent2):\n",
        "    pass\n",
        "\n",
        "c = Child()\n",
        "c.method1()\n",
        "c.method2()\n"
      ],
      "metadata": {
        "colab": {
          "base_uri": "https://localhost:8080/"
        },
        "id": "cjb8XUSZko2i",
        "outputId": "c221045b-0a73-4e35-8696-21df10541c24"
      },
      "execution_count": 1,
      "outputs": [
        {
          "output_type": "stream",
          "name": "stdout",
          "text": [
            "Method from Parent1\n",
            "Method from Parent2\n"
          ]
        }
      ]
    },
    {
      "cell_type": "markdown",
      "source": [
        "19. Explain the purpose of ‘’__str__’ and ‘__repr__’ ‘ methods in Python?\n",
        "    - The __str__ and __repr__ methods are special (dunder) methods that define how objects are represented as strings. While they might seem similar, they serve distinct purposes and are used in different contexts.\n",
        "\n",
        "    Purpose and Usage:\n",
        "\n",
        "    __repr__ – Developer-Focused Representation :\n",
        "\n",
        "    Objective: Provide an unambiguous string representation of the object, ideally one that could be used to recreate the object.\n",
        "\n",
        "    Invocation: Called by the built-in repr() function and when inspecting objects in interactive sessions.\n",
        "\n",
        "    Fallback: If __str__ is not defined, __repr__ is used as a fallback for str() and print().\n",
        "\n",
        "    Use Case: Useful for debugging and logging, where a detailed representation is beneficial.\n",
        "\n",
        "    __str__ – User-Focused Representation:\n",
        "\n",
        "    Objective: Provide a readable and user-friendly string representation of the object.\n",
        "\n",
        "    Invocation: Called by the built-in str() function and when using print().\n",
        "    \n",
        "    Use Case: Ideal for displaying information to end-users in a clean and understandable format."
      ],
      "metadata": {
        "id": "E3IKPB3Jk6-2"
      }
    },
    {
      "cell_type": "code",
      "source": [
        "class Person:\n",
        "    def __init__(self, name, age):\n",
        "        self.name = name\n",
        "        self.age = age\n",
        "\n",
        "    def __repr__(self):\n",
        "        return f\"Person(name={self.name!r}, age={self.age})\"\n",
        "\n",
        "    def __str__(self):\n",
        "        return f\"{self.name} is {self.age} years old\"\n",
        "\n",
        "p = Person(\"Reems\", 30)\n",
        "print(str(p))\n",
        "print(repr(p))\n"
      ],
      "metadata": {
        "colab": {
          "base_uri": "https://localhost:8080/"
        },
        "id": "AcGOOx22mJkV",
        "outputId": "b604e937-8f7f-4cc4-8fe8-8ebfb921c31e"
      },
      "execution_count": 4,
      "outputs": [
        {
          "output_type": "stream",
          "name": "stdout",
          "text": [
            "Reems is 30 years old\n",
            "Person(name='Reems', age=30)\n"
          ]
        }
      ]
    },
    {
      "cell_type": "markdown",
      "source": [
        "20. What is the significance of the ‘super()’ function in Python?\n",
        "    - In Python, the super() function is a built-in feature that allows a subclass to access methods and properties of its parent class. This is particularly useful in object-oriented programming when dealing with inheritance, as it enables the extension and customization of inherited methods without directly referencing the parent class.\n",
        "\n",
        "    Purpose of super():\n",
        "\n",
        "    1. Accessing Parent Class Methods: super() enables a subclass to call methods defined in its parent class, facilitating the reuse of code and reducing redundancy.\n",
        "\n",
        "    2. Extending Functionality: It allows subclasses to enhance or modify the behavior of inherited methods while still retaining the original functionality.\n",
        "\n",
        "    3. Supporting Multiple Inheritance: In complex class hierarchies involving multiple inheritance, super() ensures that the correct method resolution order (MRO) is followed, preventing issues like the diamond problem."
      ],
      "metadata": {
        "id": "HVxda1ZBmT1P"
      }
    },
    {
      "cell_type": "markdown",
      "source": [
        "21. What is the significance of the __del__ method in Python?\n",
        "    - the __del__ method is a special method, often referred to as a destructor or finalizer, that is invoked when an object is about to be destroyed by the garbage collector. Its primary purpose is to allow an object to perform any necessary cleanup before it is removed from memory.\n",
        "\n",
        "    Purpose of __del__ :\n",
        "\n",
        "    Resource Cleanup: The __del__ method can be used to release external resources such as open files, network connections, or database connections that the object may have acquired during its lifetime.\n",
        "\n",
        "    Finalization: It provides a mechanism to define custom behavior that should occur just before the object is destroyed, such as logging or notifying other parts of a program.\n",
        "\n"
      ],
      "metadata": {
        "id": "DnU9BJ56nUbt"
      }
    },
    {
      "cell_type": "markdown",
      "source": [
        "22. What is the difference between @staticmethod and @classmethod in Python?\n",
        "    - The key differences between @staticmethod and @classmethod in Python lie in their interaction with the class and its instances:\n",
        "\n",
        "    @staticmethod:\n",
        "\n",
        "    1. It is a function that belongs to the class but does not have access to the class itself or its instances.\n",
        "    2. It does not receive the implicit first argument (self or cls).\n",
        "    3. It is essentially a regular function that is namespaced within the class.\n",
        "    4. It is used for utility functions that are logically related to the class but do not depend on its state.\n",
        "\n",
        "    @classmethod:\n",
        "\n",
        "    1. It is a method that is bound to the class and not the instance of the class.\n",
        "    2. It receives the class itself as the first argument (cls).\n",
        "    3. It can access and modify class-level attributes.\n",
        "    4. It is used for operations that involve class-level data or when creating factory methods."
      ],
      "metadata": {
        "id": "6dqjsVRln8xY"
      }
    },
    {
      "cell_type": "markdown",
      "source": [
        "23. How does polymorphism work in Python with inheritance?\n",
        "    - In Python, polymorphism with inheritance allows different subclasses to override methods from a common parent class, enabling objects of these subclasses to be treated uniformly while exhibiting distinct behaviors.\n",
        "\n",
        "     When a subclass inherits from a parent class, it can override methods to provide specific implementations. This means that the same method call can produce different outcomes depending on the object's class.\n",
        "\n"
      ],
      "metadata": {
        "id": "3VgOgRcRonZ5"
      }
    },
    {
      "cell_type": "code",
      "source": [
        "class Animal:\n",
        "    def speak(self):\n",
        "        return \"Some generic animal sound\"\n",
        "\n",
        "class Dog(Animal):\n",
        "    def speak(self):\n",
        "        return \"Bark\"\n",
        "\n",
        "class Cat(Animal):\n",
        "    def speak(self):\n",
        "        return \"Meow\"\n",
        "\n",
        "animals = [Dog(), Cat()]\n",
        "for animal in animals:\n",
        "    print(animal.speak())\n"
      ],
      "metadata": {
        "colab": {
          "base_uri": "https://localhost:8080/"
        },
        "id": "RHNhX49Bss-2",
        "outputId": "38f4713a-a412-4109-916d-debf25a5593c"
      },
      "execution_count": 7,
      "outputs": [
        {
          "output_type": "stream",
          "name": "stdout",
          "text": [
            "Bark\n",
            "Meow\n"
          ]
        }
      ]
    },
    {
      "cell_type": "markdown",
      "source": [
        "24. What is method chaining in Python OOP?\n",
        "    - In Python's object-oriented programming, method chaining is a technique where multiple methods are called sequentially on the same object in a single line of code. Each method performs an operation and returns the object itself (commonly using return self), allowing the next method to be invoked directly.\n",
        "\n",
        "    Benefits of Method Chaining :\n",
        "\n",
        "    1. Concise and Readable Code: Reduces the need for intermediate variables, leading to cleaner syntax.\n",
        "\n",
        "    2. Fluent Interface: Enhances code readability by allowing a sequence of operations to be expressed naturally.\n",
        "\n",
        "    3. Improved Maintainability: Simplifies code updates and modifications by consolidating related method calls."
      ],
      "metadata": {
        "id": "TDyhySOms9Qa"
      }
    },
    {
      "cell_type": "markdown",
      "source": [
        "25.  What is the purpose of the __call__ method in Python?\n",
        "    - In Python, the __call__ method is a special (dunder) method that allows instances of a class to be invoked as if they were regular functions. By defining __call__, you enable objects to be \"callable,\" meaning you can use the syntax object() to execute code within the object.\n",
        "\n",
        "    Purpose of __call__ :\n",
        "\n",
        "    The primary purpose of the __call__ method is to make class instances behave like functions. This can be particularly useful when you want an object to maintain state across invocations or when implementing patterns like decorators.\n",
        "    "
      ],
      "metadata": {
        "id": "WMPkcu5zuPJ-"
      }
    },
    {
      "cell_type": "code",
      "source": [
        "class Greeter:\n",
        "    def __init__(self, name):\n",
        "        self.name = name\n",
        "\n",
        "    def __call__(self, greeting):\n",
        "        return f\"{greeting}, {self.name}!\"\n",
        "\n",
        "greet = Greeter(\"Reems\")\n",
        "print(greet(\"Hello\"))\n"
      ],
      "metadata": {
        "colab": {
          "base_uri": "https://localhost:8080/"
        },
        "id": "1c05EXTturqo",
        "outputId": "5431c37c-a405-44d9-8b1f-679b3afb4857"
      },
      "execution_count": 9,
      "outputs": [
        {
          "output_type": "stream",
          "name": "stdout",
          "text": [
            "Hello, Reems!\n"
          ]
        }
      ]
    },
    {
      "cell_type": "markdown",
      "source": [
        "#Practical Questions"
      ],
      "metadata": {
        "id": "DY680CS6u2wS"
      }
    },
    {
      "cell_type": "markdown",
      "source": [
        "1. Create a parent class Animal with a method speak() that prints a generic message. Create a child class Dog\n",
        "that overrides the speak() method to print \"Bark!\".\n"
      ],
      "metadata": {
        "id": "DiU2hXLmu8LE"
      }
    },
    {
      "cell_type": "code",
      "source": [
        "class Animal:\n",
        "    def speak(self):\n",
        "        print(\"This animal makes a sound.\")\n",
        "\n",
        "class Dog(Animal):\n",
        "    def speak(self):\n",
        "        print(\"Bark!\")"
      ],
      "metadata": {
        "id": "_V6aTQ5hvUJ_"
      },
      "execution_count": 14,
      "outputs": []
    },
    {
      "cell_type": "code",
      "source": [
        "dog = Dog()\n",
        "dog.speak()\n"
      ],
      "metadata": {
        "colab": {
          "base_uri": "https://localhost:8080/"
        },
        "id": "tCqnkdzZvxkB",
        "outputId": "1586c3f7-ae95-40d3-d856-2721811a168f"
      },
      "execution_count": 15,
      "outputs": [
        {
          "output_type": "stream",
          "name": "stdout",
          "text": [
            "Bark!\n"
          ]
        }
      ]
    },
    {
      "cell_type": "markdown",
      "source": [
        "2. Write a program to create an abstract class Shape with a method area(). Derive classes Circle and Rectangle\n",
        "from it and implement the area() method in both.\n"
      ],
      "metadata": {
        "id": "c0F06Yr_v28Z"
      }
    },
    {
      "cell_type": "code",
      "source": [
        "from abc import ABC, abstractmethod\n",
        "import math\n",
        "\n",
        "class Shape(ABC):\n",
        "    @abstractmethod\n",
        "    def area(self):\n",
        "        pass\n",
        "\n",
        "class Circle(Shape):\n",
        "    def __init__(self, radius):\n",
        "        self.radius = radius\n",
        "\n",
        "    def area(self):\n",
        "        return math.pi * self.radius ** 2\n",
        "\n",
        "class Rectangle(Shape):\n",
        "    def __init__(self, width, height):\n",
        "        self.width = width\n",
        "        self.height = height\n",
        "\n",
        "    def area(self):\n",
        "        return self.width * self.height\n",
        "\n",
        "circle = Circle(5)\n",
        "print(f\"Circle Area: {circle.area():.2f}\")\n",
        "\n",
        "rectangle = Rectangle(4, 6)\n",
        "print(f\"Rectangle Area: {rectangle.area()}\")\n"
      ],
      "metadata": {
        "colab": {
          "base_uri": "https://localhost:8080/"
        },
        "id": "bdkKufnGv_-t",
        "outputId": "88f5f66c-0d6f-432c-9c8a-002184a8c9c0"
      },
      "execution_count": 17,
      "outputs": [
        {
          "output_type": "stream",
          "name": "stdout",
          "text": [
            "Circle Area: 78.54\n",
            "Rectangle Area: 24\n"
          ]
        }
      ]
    },
    {
      "cell_type": "markdown",
      "source": [
        "3. Implement a multi-level inheritance scenario where a class Vehicle has an attribute type. Derive a class Car\n",
        "and further derive a class ElectricCar that adds a battery attribute.\n"
      ],
      "metadata": {
        "id": "7FwgSOt_wbES"
      }
    },
    {
      "cell_type": "code",
      "source": [
        "class Vehicle:\n",
        "    def __init__(self, make, model):\n",
        "        self.make = make\n",
        "        self.model = model\n",
        "\n",
        "    def display_info(self):\n",
        "        print(f\"Make: {self.make}, Model: {self.model}\")\n",
        "\n",
        "class Car(Vehicle):\n",
        "    def __init__(self, make, model, color):\n",
        "        super().__init__(make, model)\n",
        "        self.color = color\n",
        "\n",
        "    def display_info(self):\n",
        "        super().display_info()\n",
        "        print(f\"Color: {self.color}\")\n",
        "\n",
        "class ElectricCar(Car):\n",
        "    def __init__(self, make, model, color, battery_capacity):\n",
        "        super().__init__(make, model, color)\n",
        "        self.battery_capacity = battery_capacity\n",
        "\n",
        "    def display_info(self):\n",
        "        super().display_info()\n",
        "        print(f\"Battery Capacity: {self.battery_capacity} kWh\")\n",
        "\n",
        "tesla = ElectricCar(\"Tesla\", \"Model S\", \"Red\", 100)\n",
        "tesla.display_info()\n"
      ],
      "metadata": {
        "colab": {
          "base_uri": "https://localhost:8080/"
        },
        "id": "qOCQOCfzwjv5",
        "outputId": "31840843-f108-4795-d2cc-efa9980f1ee4"
      },
      "execution_count": 19,
      "outputs": [
        {
          "output_type": "stream",
          "name": "stdout",
          "text": [
            "Make: Tesla, Model: Model S\n",
            "Color: Red\n",
            "Battery Capacity: 100 kWh\n"
          ]
        }
      ]
    },
    {
      "cell_type": "markdown",
      "source": [
        "4. Demonstrate polymorphism by creating a base class Bird with a method fly(). Create two derived classes\n",
        "Sparrow and Penguin that override the fly() method.\n"
      ],
      "metadata": {
        "id": "cUO6kcLaxI0d"
      }
    },
    {
      "cell_type": "code",
      "source": [
        "class Bird:\n",
        "    def fly(self):\n",
        "        print(\"Some birds can fly.\")\n",
        "\n",
        "class Sparrow(Bird):\n",
        "    def fly(self):\n",
        "        print(\"Sparrow flies high in the sky.\")\n",
        "\n",
        "class Penguin(Bird):\n",
        "    def fly(self):\n",
        "        print(\"Penguins can't fly, but they can swim.\")\n",
        "\n",
        "def bird_fly(bird):\n",
        "    bird.fly()\n",
        "\n",
        "\n",
        "sparrow = Sparrow()\n",
        "penguin = Penguin()\n",
        "\n",
        "\n",
        "bird_fly(sparrow)\n",
        "bird_fly(penguin)\n",
        "\n"
      ],
      "metadata": {
        "colab": {
          "base_uri": "https://localhost:8080/"
        },
        "id": "4EALwOH5xTo3",
        "outputId": "d3a94c79-b79f-4969-8139-bea09ac9a381"
      },
      "execution_count": 23,
      "outputs": [
        {
          "output_type": "stream",
          "name": "stdout",
          "text": [
            "Sparrow flies high in the sky.\n",
            "Penguins can't fly, but they can swim.\n"
          ]
        }
      ]
    },
    {
      "cell_type": "markdown",
      "source": [
        "5.  Write a program to demonstrate encapsulation by creating a class BankAccount with private attributes\n",
        "balance and methods to deposit, withdraw, and check balance."
      ],
      "metadata": {
        "id": "d8D1N24Kz-Ks"
      }
    },
    {
      "cell_type": "code",
      "source": [
        "class BankAccount:\n",
        "    def __init__(self, initial_balance=0.0):\n",
        "        self.__balance = initial_balance  # Private attribute\n",
        "\n",
        "    def deposit(self, amount):\n",
        "        \"\"\"Deposit a positive amount into the account.\"\"\"\n",
        "        if amount > 0:\n",
        "            self.__balance += amount\n",
        "            print(f\"Deposited ${amount:.2f}. New balance: ${self.__balance:.2f}\")\n",
        "        else:\n",
        "            print(\"Deposit amount must be positive.\")\n",
        "\n",
        "    def withdraw(self, amount):\n",
        "        \"\"\"Withdraw a positive amount if sufficient balance is available.\"\"\"\n",
        "        if amount <= 0:\n",
        "            print(\"Withdrawal amount must be positive.\")\n",
        "        elif amount > self.__balance:\n",
        "            print(\"Insufficient funds.\")\n",
        "        else:\n",
        "            self.__balance -= amount\n",
        "            print(f\"Withdrew ${amount:.2f}. New balance: ${self.__balance:.2f}\")\n",
        "\n",
        "    def get_balance(self):\n",
        "        \"\"\"Return the current balance.\"\"\"\n",
        "        return self.__balance\n",
        "\n",
        "account = BankAccount(1000.0)\n",
        "account.deposit(500)\n",
        "account.withdraw(200)\n",
        "print(f\"Final Balance: ${account.get_balance():.2f}\")\n"
      ],
      "metadata": {
        "colab": {
          "base_uri": "https://localhost:8080/"
        },
        "id": "UmNY_7yF0Czc",
        "outputId": "b253666d-5337-494f-a30c-d251c9817463"
      },
      "execution_count": 24,
      "outputs": [
        {
          "output_type": "stream",
          "name": "stdout",
          "text": [
            "Deposited $500.00. New balance: $1500.00\n",
            "Withdrew $200.00. New balance: $1300.00\n",
            "Final Balance: $1300.00\n"
          ]
        }
      ]
    },
    {
      "cell_type": "markdown",
      "source": [
        "6. Demonstrate runtime polymorphism using a method play() in a base class Instrument. Derive classes Guitar\n",
        "and Piano that implement their own version of play()."
      ],
      "metadata": {
        "id": "8BDBzOuL0_BO"
      }
    },
    {
      "cell_type": "code",
      "source": [
        "class Instrument:\n",
        "    def play(self):\n",
        "        print(\"Playing an instrument.\")\n",
        "\n",
        "class Guitar(Instrument):\n",
        "    def play(self):\n",
        "        print(\"Strumming the guitar.\")\n",
        "\n",
        "class Piano(Instrument):\n",
        "    def play(self):\n",
        "        print(\"Playing the piano.\")\n",
        "def perform(instrument):\n",
        "    instrument.play()\n",
        "\n",
        "guitar = Guitar()\n",
        "piano = Piano()\n",
        "\n",
        "perform(guitar)\n",
        "perform(piano)\n",
        "\n"
      ],
      "metadata": {
        "colab": {
          "base_uri": "https://localhost:8080/"
        },
        "id": "EMtr1u1A1KnS",
        "outputId": "6ad62d62-7c14-4cbd-eb05-883cfa9c7b05"
      },
      "execution_count": 27,
      "outputs": [
        {
          "output_type": "stream",
          "name": "stdout",
          "text": [
            "Strumming the guitar.\n",
            "Playing the piano.\n"
          ]
        }
      ]
    },
    {
      "cell_type": "markdown",
      "source": [
        "7. Create a class MathOperations with a class method add_numbers() to add two numbers and a static\n",
        "method subtract_numbers() to subtract two numbers."
      ],
      "metadata": {
        "id": "ADbypste1090"
      }
    },
    {
      "cell_type": "code",
      "source": [
        "class MathOperations:\n",
        "    @classmethod\n",
        "    def add_numbers(cls, a, b):\n",
        "        \"\"\"Add two numbers using a class method.\"\"\"\n",
        "        return a + b\n",
        "\n",
        "    @staticmethod\n",
        "    def subtract_numbers(a, b):\n",
        "        \"\"\"Subtract two numbers using a static method.\"\"\"\n",
        "        return a - b\n",
        "\n",
        "# Example usage\n",
        "print(\"Addition:\", MathOperations.add_numbers(10, 5))\n",
        "print(\"Subtraction:\", MathOperations.subtract_numbers(10, 5))\n"
      ],
      "metadata": {
        "colab": {
          "base_uri": "https://localhost:8080/"
        },
        "id": "DarF8X4w13lE",
        "outputId": "7ef72e88-1734-42c6-b088-375b8e9cd658"
      },
      "execution_count": 28,
      "outputs": [
        {
          "output_type": "stream",
          "name": "stdout",
          "text": [
            "Addition: 15\n",
            "Subtraction: 5\n"
          ]
        }
      ]
    },
    {
      "cell_type": "markdown",
      "source": [
        "8.  Implement a class Person with a class method to count the total number of persons created."
      ],
      "metadata": {
        "id": "Va3JrsRL2TTO"
      }
    },
    {
      "cell_type": "code",
      "source": [
        "class Person:\n",
        "    _count = 0  # Private class variable to track the number of instances\n",
        "\n",
        "    def __init__(self, name):\n",
        "        self.name = name\n",
        "        Person._count += 1  # Increment the counter when a new instance is created\n",
        "\n",
        "    @classmethod\n",
        "    def get_count(cls):\n",
        "        \"\"\"Class method to return the total number of Person instances created.\"\"\"\n",
        "        return cls._count\n",
        "\n",
        "p1 = Person(\"Alice\")\n",
        "p2 = Person(\"Bob\")\n",
        "p3 = Person(\"Charlie\")\n",
        "\n",
        "print(f\"Total Persons created: {Person.get_count()}\")\n"
      ],
      "metadata": {
        "colab": {
          "base_uri": "https://localhost:8080/"
        },
        "id": "z36-RYHp2ag2",
        "outputId": "9cbf3bdf-9f9e-4d53-b4c9-490b50bc6dd0"
      },
      "execution_count": 29,
      "outputs": [
        {
          "output_type": "stream",
          "name": "stdout",
          "text": [
            "Total Persons created: 3\n"
          ]
        }
      ]
    },
    {
      "cell_type": "markdown",
      "source": [
        "9. Write a class Fraction with attributes numerator and denominator. Override the str method to display the\n",
        "fraction as \"numerator/denominator\"."
      ],
      "metadata": {
        "id": "AgFuDsEN2v1s"
      }
    },
    {
      "cell_type": "code",
      "source": [
        "class Fraction:\n",
        "    def __init__(self, numerator, denominator):\n",
        "        if denominator == 0:\n",
        "            raise ValueError(\"Denominator cannot be zero.\")\n",
        "        self.numerator = numerator\n",
        "        self.denominator = denominator\n",
        "\n",
        "    def __str__(self):\n",
        "        return f\"{self.numerator}/{self.denominator}\"\n",
        "\n",
        "f = Fraction(3, 4)\n",
        "print(f)\n"
      ],
      "metadata": {
        "colab": {
          "base_uri": "https://localhost:8080/"
        },
        "id": "KX7Duyty3CKB",
        "outputId": "c8a167ed-429e-4654-b226-38ab9b2f8258"
      },
      "execution_count": 30,
      "outputs": [
        {
          "output_type": "stream",
          "name": "stdout",
          "text": [
            "3/4\n"
          ]
        }
      ]
    },
    {
      "cell_type": "markdown",
      "source": [
        "10.  Demonstrate operator overloading by creating a class Vector and overriding the add method to add two\n",
        "vectors."
      ],
      "metadata": {
        "id": "YXiDiAl93INo"
      }
    },
    {
      "cell_type": "code",
      "source": [
        "class Vector:\n",
        "    def __init__(self, x, y):\n",
        "        self.x = x\n",
        "        self.y = y\n",
        "\n",
        "    def __add__(self, other):\n",
        "        \"\"\"Overloads the + operator to add two vectors.\"\"\"\n",
        "        return Vector(self.x + other.x, self.y + other.y)\n",
        "\n",
        "    def __str__(self):\n",
        "        \"\"\"Returns a string representation of the vector.\"\"\"\n",
        "        return f\"Vector({self.x}, {self.y})\"\n",
        "\n",
        "\n",
        "v1 = Vector(2, 3)\n",
        "v2 = Vector(5, 7)\n",
        "v3 = v1 + v2\n",
        "print(v3)\n"
      ],
      "metadata": {
        "colab": {
          "base_uri": "https://localhost:8080/"
        },
        "id": "zbH9Xm8c3PIK",
        "outputId": "fa1c44cf-59cb-47a7-f9b7-1d81dc9aac8d"
      },
      "execution_count": 32,
      "outputs": [
        {
          "output_type": "stream",
          "name": "stdout",
          "text": [
            "Vector(7, 10)\n"
          ]
        }
      ]
    }
  ]
}